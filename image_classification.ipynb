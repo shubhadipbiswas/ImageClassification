{
 "cells": [
  {
   "cell_type": "markdown",
   "id": "e402e89f",
   "metadata": {},
   "source": [
    "# Image Classification: Binary Class"
   ]
  },
  {
   "cell_type": "code",
   "execution_count": null,
   "id": "2d95ed59",
   "metadata": {},
   "outputs": [],
   "source": [
    "from keras.models import Sequential\n",
    "from keras.layers import Dense, Conv2D, MaxPool2D , Flatten\n",
    "from keras.preprocessing.image import ImageDataGenerator\n",
    "import keras\n",
    "import numpy as np\n",
    "import tensorflow as tf\n",
    "from tensorflow import keras\n",
    "from tensorflow.keras import layers\n",
    "from tensorflow.keras import optimizers\n",
    "from keras import models\n",
    "import tensorflow_hub as hub\n",
    "import matplotlib.pyplot as plt\n",
    "import pickle"
   ]
  },
  {
   "cell_type": "code",
   "execution_count": 65,
   "id": "0b12e691",
   "metadata": {},
   "outputs": [],
   "source": [
    "tf.config.run_functions_eagerly(True)"
   ]
  },
  {
   "cell_type": "code",
   "execution_count": 24,
   "id": "ce165dee",
   "metadata": {},
   "outputs": [],
   "source": [
    "dir_image = ('C:/Users/shubh/PYthon/Assignment/Images/datasets')"
   ]
  },
  {
   "cell_type": "markdown",
   "id": "6b738fd4",
   "metadata": {},
   "source": [
    "##### Data Argumants"
   ]
  },
  {
   "cell_type": "code",
   "execution_count": 32,
   "id": "2ac74711",
   "metadata": {},
   "outputs": [],
   "source": [
    "args_data = dict(rescale=1./255,\n",
    "                                   rotation_range=40,\n",
    "                                   width_shift_range=0.2,\n",
    "                                   height_shift_range=0.2,\n",
    "                                   shear_range=0.2,\n",
    "                                   zoom_range=0.2,\n",
    "                                   horizontal_flip=True, validation_split=.20)"
   ]
  },
  {
   "cell_type": "markdown",
   "id": "97610b1b",
   "metadata": {},
   "source": [
    "#### Splitting Training and Validation"
   ]
  },
  {
   "cell_type": "code",
   "execution_count": 61,
   "id": "712d79bb",
   "metadata": {},
   "outputs": [
    {
     "name": "stdout",
     "output_type": "stream",
     "text": [
      "Found 473 images belonging to 2 classes.\n",
      "Found 118 images belonging to 2 classes.\n"
     ]
    }
   ],
   "source": [
    "veh_train = tf.keras.preprocessing.image.ImageDataGenerator(**args_data)\n",
    "\n",
    "generator_train = veh_train.flow_from_directory(\n",
    "dir_image,\n",
    "subset=\"training\",\n",
    "shuffle=True,\n",
    "target_size=(224, 224),class_mode='binary')\n",
    "\n",
    "\n",
    "veh_val = tf.keras.preprocessing.image.ImageDataGenerator(**args_data)\n",
    "\n",
    "generator_val = veh_val.flow_from_directory(\n",
    "dir_image,\n",
    "subset=\"validation\",\n",
    "shuffle=True,\n",
    "target_size=(224, 224),class_mode='binary')"
   ]
  },
  {
   "cell_type": "code",
   "execution_count": 62,
   "id": "127c8ec8",
   "metadata": {},
   "outputs": [],
   "source": [
    "for image_batch, label_batch in generator_train:\n",
    "    break\n",
    "    image_batch.shape, label_batch.shape"
   ]
  },
  {
   "cell_type": "code",
   "execution_count": 63,
   "id": "21fbf4e6",
   "metadata": {},
   "outputs": [
    {
     "name": "stdout",
     "output_type": "stream",
     "text": [
      "{'MC': 0, 'Scooter': 1}\n"
     ]
    }
   ],
   "source": [
    "print (generator_train.class_indices)"
   ]
  },
  {
   "cell_type": "markdown",
   "id": "bf4af165",
   "metadata": {},
   "source": [
    "### Fitting Model"
   ]
  },
  {
   "cell_type": "code",
   "execution_count": 81,
   "id": "12586cd8",
   "metadata": {},
   "outputs": [
    {
     "name": "stdout",
     "output_type": "stream",
     "text": [
      "Model: \"sequential_16\"\n",
      "_________________________________________________________________\n",
      " Layer (type)                Output Shape              Param #   \n",
      "=================================================================\n",
      " keras_layer_7 (KerasLayer)  (None, 1280)              2257984   \n",
      "                                                                 \n",
      " dropout_16 (Dropout)        (None, 1280)              0         \n",
      "                                                                 \n",
      " dense_26 (Dense)            (None, 2)                 2562      \n",
      "                                                                 \n",
      "=================================================================\n",
      "Total params: 2,260,546\n",
      "Trainable params: 2,562\n",
      "Non-trainable params: 2,257,984\n",
      "_________________________________________________________________\n"
     ]
    }
   ],
   "source": [
    "base_model = tf.keras.Sequential([\n",
    " hub.KerasLayer(\"https://tfhub.dev/google/tf2-preview/mobilenet_v2/feature_vector/4\", \n",
    " output_shape=[1280],\n",
    " trainable=False),\n",
    " tf.keras.layers.Dropout(0.4),\n",
    " tf.keras.layers.Dense(generator_train.num_classes, activation='sigmoid')\n",
    "])\n",
    "\n",
    "base_model.build([None, 224, 224, 3])\n",
    "base_model.summary()\n",
    "\n"
   ]
  },
  {
   "cell_type": "code",
   "execution_count": 82,
   "id": "32298ed2",
   "metadata": {},
   "outputs": [],
   "source": [
    "optimizer = tf.keras.optimizers.Adam(lr=0.001)\n",
    "\n",
    "base_model.compile(\n",
    " optimizer=optimizer,\n",
    " loss= 'binary_crossentropy',\n",
    " metrics=['accuracy'])\n"
   ]
  },
  {
   "cell_type": "code",
   "execution_count": 83,
   "id": "3cc5c30a",
   "metadata": {},
   "outputs": [
    {
     "name": "stdout",
     "output_type": "stream",
     "text": [
      "Epoch 1/10\n",
      "15/15 [==============================] - 26s 2s/step - loss: 0.5272 - accuracy: 0.7738 - val_loss: 0.4673 - val_accuracy: 0.8136\n",
      "Epoch 2/10\n",
      "15/15 [==============================] - 23s 2s/step - loss: 0.3120 - accuracy: 0.8732 - val_loss: 0.3190 - val_accuracy: 0.8644\n",
      "Epoch 3/10\n",
      "15/15 [==============================] - 24s 2s/step - loss: 0.2472 - accuracy: 0.9239 - val_loss: 0.2633 - val_accuracy: 0.8814\n",
      "Epoch 4/10\n",
      "15/15 [==============================] - 23s 2s/step - loss: 0.1640 - accuracy: 0.9556 - val_loss: 0.2371 - val_accuracy: 0.9153\n",
      "Epoch 5/10\n",
      "15/15 [==============================] - 23s 2s/step - loss: 0.1331 - accuracy: 0.9725 - val_loss: 0.2023 - val_accuracy: 0.9237\n",
      "Epoch 6/10\n",
      "15/15 [==============================] - 24s 2s/step - loss: 0.1249 - accuracy: 0.9767 - val_loss: 0.1662 - val_accuracy: 0.9322\n",
      "Epoch 7/10\n",
      "15/15 [==============================] - 24s 2s/step - loss: 0.0975 - accuracy: 0.9873 - val_loss: 0.1862 - val_accuracy: 0.9237\n",
      "Epoch 8/10\n",
      "15/15 [==============================] - 24s 2s/step - loss: 0.0807 - accuracy: 0.9873 - val_loss: 0.1842 - val_accuracy: 0.9322\n",
      "Epoch 9/10\n",
      "15/15 [==============================] - 23s 2s/step - loss: 0.0833 - accuracy: 0.9894 - val_loss: 0.1635 - val_accuracy: 0.9322\n",
      "Epoch 10/10\n",
      "15/15 [==============================] - 24s 2s/step - loss: 0.0744 - accuracy: 0.9852 - val_loss: 0.1724 - val_accuracy: 0.9237\n"
     ]
    }
   ],
   "source": [
    "epochs=10\n",
    "history = base_model.fit(\n",
    "  generator_train,\n",
    "  validation_data = generator_val,\n",
    "  epochs = epochs\n",
    ")"
   ]
  },
  {
   "cell_type": "code",
   "execution_count": 84,
   "id": "4a80e4d6",
   "metadata": {},
   "outputs": [
    {
     "data": {
      "image/png": "[encoded data removed]",
      "text/plain": [
       "<Figure size 576x576 with 2 Axes>"
      ]
     },
     "metadata": {
      "needs_background": "light"
     },
     "output_type": "display_data"
    }
   ],
   "source": [
    "acc = history.history['accuracy']\n",
    "val_acc = history.history['val_accuracy']\n",
    "\n",
    "loss = history.history['loss']\n",
    "val_loss = history.history['val_loss']\n",
    "\n",
    "epochs_range = range(epochs)\n",
    "\n",
    "plt.figure(figsize=(8, 8))\n",
    "plt.subplot(1, 2, 1)\n",
    "plt.plot(epochs_range, acc, label='Training Accuracy')\n",
    "plt.plot(epochs_range, val_acc, label='Validation Accuracy')\n",
    "plt.legend(loc='lower right')\n",
    "plt.title('Training and Validation Accuracy')\n",
    "\n",
    "plt.subplot(1, 2, 2)\n",
    "plt.plot(epochs_range, loss, label='Training Loss')\n",
    "plt.plot(epochs_range, val_loss, label='Validation Loss')\n",
    "plt.legend(loc='upper right')\n",
    "plt.title('Training and Validation Loss')\n",
    "plt.show()"
   ]
  },
  {
   "cell_type": "code",
   "execution_count": 86,
   "id": "cbcf26ae",
   "metadata": {},
   "outputs": [],
   "source": [
    "file_dir = 'C:/Users/shubh/PYthon/Assignment/Images/model_image.h5'\n",
    "base_model.save(file_dir)"
   ]
  }
 ],
 "metadata": {
  "kernelspec": {
   "display_name": "Python 3",
   "language": "python",
   "name": "python3"
  },
  "language_info": {
   "codemirror_mode": {
    "name": "ipython",
    "version": 3
   },
   "file_extension": ".py",
   "mimetype": "text/x-python",
   "name": "python",
   "nbconvert_exporter": "python",
   "pygments_lexer": "ipython3",
   "version": "3.8.8"
  }
 },
 "nbformat": 4,
 "nbformat_minor": 5
}
